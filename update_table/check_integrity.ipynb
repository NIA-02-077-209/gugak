{
 "cells": [
  {
   "cell_type": "code",
   "execution_count": 1,
   "metadata": {},
   "outputs": [],
   "source": [
    "import json \n",
    "from json_utils import (\n",
    "    loadjson,\n",
    "    get_keys_recursively,\n",
    "    compare_keys_recursively,\n",
    "    print_json,\n",
    "    json2list\n",
    ")\n",
    "from pathlib import Path"
   ]
  },
  {
   "cell_type": "code",
   "execution_count": 2,
   "metadata": {},
   "outputs": [
    {
     "data": {
      "text/plain": [
       "'./221020_1cycle_10p'"
      ]
     },
     "execution_count": 2,
     "metadata": {},
     "output_type": "execute_result"
    }
   ],
   "source": [
    "import os\n",
    "import cfg\n",
    "\n",
    "STD_JSON = cfg.STD_JSON\n",
    "JSON_DIR = cfg.DATASET_DIR\n",
    "\n",
    "NOT_ESSENTIAL_KEYS = set({\n",
    "    \"org_file_nm\", # in [\"music_source_info\"]\n",
    "    \"index\", # in [\"annotation_data_info\"][\"lyrics\"]\n",
    "    \"uuid\", # in [\"annotation_data_info\"][\"lyrics\"]\n",
    "    #\"annotation_parent\", # in [\"annotation_data_info\"][\"single_tonguing_cd\"]\n",
    "    \"annotation_name\" # in [\"annotation_data_info\"][\"single_tonguing_cd\"]\n",
    "})\n",
    "\n",
    "JSON_DIR"
   ]
  },
  {
   "cell_type": "markdown",
   "metadata": {},
   "source": [
    "# 기준으로 삼기로 한 json 파일 load"
   ]
  },
  {
   "cell_type": "code",
   "execution_count": 3,
   "metadata": {},
   "outputs": [
    {
     "name": "stdout",
     "output_type": "stream",
     "text": [
      "./221020_1cycle_10p\\AP_C11_01566.json\n"
     ]
    }
   ],
   "source": [
    "std_json_path = Path(STD_JSON)\n",
    "print(STD_JSON)\n",
    "std_json = loadjson(std_json_path)\n",
    "# print_json(std_json)"
   ]
  },
  {
   "cell_type": "markdown",
   "metadata": {},
   "source": [
    "# 기준으로 삼는 json의 필드엔 무엇이 있는지 recursively 하게 얻어오기"
   ]
  },
  {
   "cell_type": "code",
   "execution_count": 4,
   "metadata": {},
   "outputs": [],
   "source": [
    "std_json_keys = get_keys_recursively(std_json)\n",
    "# std_json_keys"
   ]
  },
  {
   "cell_type": "markdown",
   "metadata": {},
   "source": [
    "# 2022.10.20\n",
    "\n",
    "- AP_E04_00107.json 파일은 annotation이 아예 없다.\n",
    "- AP_C11_01549, AP_F02_00331 파일은 다른것들과 형식이 다르다."
   ]
  },
  {
   "cell_type": "code",
   "execution_count": 5,
   "metadata": {},
   "outputs": [
    {
     "name": "stdout",
     "output_type": "stream",
     "text": [
      "\n",
      "##########################################################################################\n",
      "AP_C11_01566.json 에는 있지만 AP_E04_00107 에는 없는 key들.\n",
      "\t annotation_category\n",
      "\t annotation_code\n",
      "\t end_time\n",
      "\t start_time\n",
      "\t annotation_ID\n",
      "-----------------------------------------------------------------------------------------------\n",
      "AP_E04_00107 에는 있지만 AP_C11_01566.json 에는 없는 key들.\n"
     ]
    }
   ],
   "source": [
    "for json_filename, json_dict in json2list(JSON_DIR).items():\n",
    "    comp_json_keys = get_keys_recursively(json_dict=json_dict)\n",
    "\n",
    "    std_diff_comp = std_json_keys - comp_json_keys\n",
    "    std_diff_comp -= NOT_ESSENTIAL_KEYS\n",
    "    comp_diff_std = comp_json_keys - std_json_keys\n",
    "    comp_diff_std -= NOT_ESSENTIAL_KEYS\n",
    "\n",
    "    if not (len(std_diff_comp) == 0 and len(comp_diff_std) == 0):\n",
    "        print(\"\\n##########################################################################################\")\n",
    "        print(f\"{std_json_path.name} 에는 있지만 {json_filename} 에는 없는 key들.\")\n",
    "        for k in std_diff_comp:\n",
    "            print('\\t', k)\n",
    "            \n",
    "        print(\"-----------------------------------------------------------------------------------------------\")\n",
    "        print(f\"{json_filename} 에는 있지만 {std_json_path.name} 에는 없는 key들.\")\n",
    "        for k in comp_diff_std:\n",
    "            print('\\t', k)\n"
   ]
  },
  {
   "cell_type": "code",
   "execution_count": 6,
   "metadata": {},
   "outputs": [],
   "source": [
    "for json_filename, json_dict in json2list(JSON_DIR).items():\n",
    "    if not compare_keys_recursively(src_json=std_json, dst_json=json_dict,not_essential_keys=NOT_ESSENTIAL_KEYS):\n",
    "        print(json_filename)\n"
   ]
  },
  {
   "cell_type": "code",
   "execution_count": null,
   "metadata": {},
   "outputs": [],
   "source": []
  }
 ],
 "metadata": {
  "kernelspec": {
   "display_name": "Python 3.8.13 ('audio')",
   "language": "python",
   "name": "python3"
  },
  "language_info": {
   "codemirror_mode": {
    "name": "ipython",
    "version": 3
   },
   "file_extension": ".py",
   "mimetype": "text/x-python",
   "name": "python",
   "nbconvert_exporter": "python",
   "pygments_lexer": "ipython3",
   "version": "3.8.13"
  },
  "orig_nbformat": 4,
  "vscode": {
   "interpreter": {
    "hash": "473cae8220f8d054c8fe830cfbe0f767f53b161525676e734aed1b37d54412a5"
   }
  }
 },
 "nbformat": 4,
 "nbformat_minor": 2
}
